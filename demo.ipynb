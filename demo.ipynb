{
 "cells": [
  {
   "metadata": {
    "ExecuteTime": {
     "end_time": "2024-08-03T14:43:11.043271Z",
     "start_time": "2024-08-03T14:43:08.561712Z"
    }
   },
   "cell_type": "code",
   "source": [
    "%pip install networkx\n",
    "%pip install scipy"
   ],
   "id": "96c19f696772b73c",
   "outputs": [
    {
     "name": "stdout",
     "output_type": "stream",
     "text": [
      "Requirement already satisfied: networkx in c:\\users\\abdar\\pycharmprojects\\sparsification\\.venv\\lib\\site-packages (3.3)\n",
      "Note: you may need to restart the kernel to use updated packages.\n"
     ]
    },
    {
     "name": "stderr",
     "output_type": "stream",
     "text": [
      "\n",
      "[notice] A new release of pip is available: 23.2.1 -> 24.2\n",
      "[notice] To update, run: python.exe -m pip install --upgrade pip\n"
     ]
    },
    {
     "name": "stdout",
     "output_type": "stream",
     "text": [
      "Requirement already satisfied: scipy in c:\\users\\abdar\\pycharmprojects\\sparsification\\.venv\\lib\\site-packages (1.14.0)Note: you may need to restart the kernel to use updated packages.\n"
     ]
    },
    {
     "name": "stderr",
     "output_type": "stream",
     "text": [
      "\n",
      "[notice] A new release of pip is available: 23.2.1 -> 24.2\n",
      "[notice] To update, run: python.exe -m pip install --upgrade pip\n"
     ]
    },
    {
     "name": "stdout",
     "output_type": "stream",
     "text": [
      "\n",
      "Requirement already satisfied: numpy<2.3,>=1.23.5 in c:\\users\\abdar\\pycharmprojects\\sparsification\\.venv\\lib\\site-packages (from scipy) (2.0.1)\n"
     ]
    }
   ],
   "execution_count": 34
  },
  {
   "metadata": {
    "ExecuteTime": {
     "end_time": "2024-08-03T14:43:11.250320Z",
     "start_time": "2024-08-03T14:43:11.044271Z"
    }
   },
   "cell_type": "code",
   "source": [
    "%load_ext autoreload\n",
    "%reload_ext autoreload\n",
    "%autoreload 2"
   ],
   "id": "96ff9dcaa8b88e5f",
   "outputs": [
    {
     "name": "stdout",
     "output_type": "stream",
     "text": [
      "The autoreload extension is already loaded. To reload it, use:\n",
      "  %reload_ext autoreload\n"
     ]
    }
   ],
   "execution_count": 35
  },
  {
   "cell_type": "code",
   "id": "initial_id",
   "metadata": {
    "collapsed": true,
    "ExecuteTime": {
     "end_time": "2024-08-03T14:43:11.457944Z",
     "start_time": "2024-08-03T14:43:11.251321Z"
    }
   },
   "source": [
    "from sparsification import sparsify\n",
    "import numpy as np\n",
    "import networkx as nx\n",
    "from sympy import Matrix"
   ],
   "outputs": [],
   "execution_count": 36
  },
  {
   "metadata": {
    "ExecuteTime": {
     "end_time": "2024-08-03T14:43:11.760011Z",
     "start_time": "2024-08-03T14:43:11.458945Z"
    }
   },
   "cell_type": "code",
   "source": [
    "G = nx.complete_graph(10)\n",
    "sparsified = sparsify(G, show=True)"
   ],
   "id": "6e0040a7f4bb61fa",
   "outputs": [
    {
     "ename": "AttributeError",
     "evalue": "'MutableDenseMatrix' object has no attribute 'ndim'",
     "output_type": "error",
     "traceback": [
      "\u001B[1;31m---------------------------------------------------------------------------\u001B[0m",
      "\u001B[1;31mAttributeError\u001B[0m                            Traceback (most recent call last)",
      "Cell \u001B[1;32mIn[37], line 2\u001B[0m\n\u001B[0;32m      1\u001B[0m G \u001B[38;5;241m=\u001B[39m nx\u001B[38;5;241m.\u001B[39mcomplete_graph(\u001B[38;5;241m10\u001B[39m)\n\u001B[1;32m----> 2\u001B[0m sparsified \u001B[38;5;241m=\u001B[39m \u001B[43msparsify\u001B[49m\u001B[43m(\u001B[49m\u001B[43mG\u001B[49m\u001B[43m,\u001B[49m\u001B[43m \u001B[49m\u001B[43mshow\u001B[49m\u001B[38;5;241;43m=\u001B[39;49m\u001B[38;5;28;43;01mTrue\u001B[39;49;00m\u001B[43m)\u001B[49m\n",
      "File \u001B[1;32m~\\PycharmProjects\\sparsification\\sparsification.py:151\u001B[0m, in \u001B[0;36msparsify\u001B[1;34m(graph, k, n, trivial, return_sympy, log, show)\u001B[0m\n\u001B[0;32m    148\u001B[0m     build_tex(L, Phi_k, Phi_gr_k, Lambda_k, F, Sp)\n\u001B[0;32m    150\u001B[0m \u001B[38;5;28;01mif\u001B[39;00m show:\n\u001B[1;32m--> 151\u001B[0m     \u001B[43mdraw_result\u001B[49m\u001B[43m(\u001B[49m\u001B[43mL\u001B[49m\u001B[43m,\u001B[49m\u001B[43m \u001B[49m\u001B[43mSp\u001B[49m\u001B[43m)\u001B[49m\n\u001B[0;32m    153\u001B[0m \u001B[38;5;28;01mif\u001B[39;00m return_sympy:\n\u001B[0;32m    154\u001B[0m     \u001B[38;5;28;01mreturn\u001B[39;00m Sp\n",
      "File \u001B[1;32m~\\PycharmProjects\\sparsification\\sparsification.py:53\u001B[0m, in \u001B[0;36mdraw_result\u001B[1;34m(L, Sp)\u001B[0m\n\u001B[0;32m     51\u001B[0m \u001B[38;5;28;01mdef\u001B[39;00m \u001B[38;5;21mdraw_result\u001B[39m(L, Sp):\n\u001B[0;32m     52\u001B[0m     \u001B[38;5;28;01mfor\u001B[39;00m i, matrix \u001B[38;5;129;01min\u001B[39;00m \u001B[38;5;28menumerate\u001B[39m([laplacian_to_adjacency(L)] \u001B[38;5;241m+\u001B[39m Sp):\n\u001B[1;32m---> 53\u001B[0m         G \u001B[38;5;241m=\u001B[39m \u001B[43mnx\u001B[49m\u001B[38;5;241;43m.\u001B[39;49m\u001B[43mfrom_numpy_array\u001B[49m\u001B[43m(\u001B[49m\u001B[43mmatrix\u001B[49m\u001B[43m)\u001B[49m\n\u001B[0;32m     55\u001B[0m         plt\u001B[38;5;241m.\u001B[39mfigure(i)\n\u001B[0;32m     56\u001B[0m         pos \u001B[38;5;241m=\u001B[39m nx\u001B[38;5;241m.\u001B[39mspring_layout(G)\n",
      "File \u001B[1;32m<class 'networkx.utils.decorators.argmap'> compilation 28:3\u001B[0m, in \u001B[0;36margmap_from_numpy_array_25\u001B[1;34m(A, parallel_edges, create_using, edge_attr, backend, **backend_kwargs)\u001B[0m\n\u001B[0;32m      1\u001B[0m \u001B[38;5;28;01mimport\u001B[39;00m \u001B[38;5;21;01mbz2\u001B[39;00m\n\u001B[0;32m      2\u001B[0m \u001B[38;5;28;01mimport\u001B[39;00m \u001B[38;5;21;01mcollections\u001B[39;00m\n\u001B[1;32m----> 3\u001B[0m \u001B[38;5;28;01mimport\u001B[39;00m \u001B[38;5;21;01mgzip\u001B[39;00m\n\u001B[0;32m      4\u001B[0m \u001B[38;5;28;01mimport\u001B[39;00m \u001B[38;5;21;01minspect\u001B[39;00m\n\u001B[0;32m      5\u001B[0m \u001B[38;5;28;01mimport\u001B[39;00m \u001B[38;5;21;01mitertools\u001B[39;00m\n",
      "File \u001B[1;32m~\\PycharmProjects\\sparsification\\.venv\\lib\\site-packages\\networkx\\utils\\backends.py:633\u001B[0m, in \u001B[0;36m_dispatchable.__call__\u001B[1;34m(self, backend, *args, **kwargs)\u001B[0m\n\u001B[0;32m    628\u001B[0m \u001B[38;5;250m\u001B[39m\u001B[38;5;124;03m\"\"\"Returns the result of the original function, or the backend function if\u001B[39;00m\n\u001B[0;32m    629\u001B[0m \u001B[38;5;124;03mthe backend is specified and that backend implements `func`.\"\"\"\u001B[39;00m\n\u001B[0;32m    631\u001B[0m \u001B[38;5;28;01mif\u001B[39;00m \u001B[38;5;129;01mnot\u001B[39;00m backends:\n\u001B[0;32m    632\u001B[0m     \u001B[38;5;66;03m# Fast path if no backends are installed\u001B[39;00m\n\u001B[1;32m--> 633\u001B[0m     \u001B[38;5;28;01mreturn\u001B[39;00m \u001B[38;5;28mself\u001B[39m\u001B[38;5;241m.\u001B[39morig_func(\u001B[38;5;241m*\u001B[39margs, \u001B[38;5;241m*\u001B[39m\u001B[38;5;241m*\u001B[39mkwargs)\n\u001B[0;32m    635\u001B[0m \u001B[38;5;66;03m# Use `backend_name` in this function instead of `backend`\u001B[39;00m\n\u001B[0;32m    636\u001B[0m backend_name \u001B[38;5;241m=\u001B[39m backend\n",
      "File \u001B[1;32m~\\PycharmProjects\\sparsification\\.venv\\lib\\site-packages\\networkx\\convert_matrix.py:1132\u001B[0m, in \u001B[0;36mfrom_numpy_array\u001B[1;34m(A, parallel_edges, create_using, edge_attr)\u001B[0m\n\u001B[0;32m   1121\u001B[0m kind_to_python_type \u001B[38;5;241m=\u001B[39m {\n\u001B[0;32m   1122\u001B[0m     \u001B[38;5;124m\"\u001B[39m\u001B[38;5;124mf\u001B[39m\u001B[38;5;124m\"\u001B[39m: \u001B[38;5;28mfloat\u001B[39m,\n\u001B[0;32m   1123\u001B[0m     \u001B[38;5;124m\"\u001B[39m\u001B[38;5;124mi\u001B[39m\u001B[38;5;124m\"\u001B[39m: \u001B[38;5;28mint\u001B[39m,\n\u001B[1;32m   (...)\u001B[0m\n\u001B[0;32m   1129\u001B[0m     \u001B[38;5;124m\"\u001B[39m\u001B[38;5;124mV\u001B[39m\u001B[38;5;124m\"\u001B[39m: \u001B[38;5;124m\"\u001B[39m\u001B[38;5;124mvoid\u001B[39m\u001B[38;5;124m\"\u001B[39m,\n\u001B[0;32m   1130\u001B[0m }\n\u001B[0;32m   1131\u001B[0m G \u001B[38;5;241m=\u001B[39m nx\u001B[38;5;241m.\u001B[39mempty_graph(\u001B[38;5;241m0\u001B[39m, create_using)\n\u001B[1;32m-> 1132\u001B[0m \u001B[38;5;28;01mif\u001B[39;00m \u001B[43mA\u001B[49m\u001B[38;5;241;43m.\u001B[39;49m\u001B[43mndim\u001B[49m \u001B[38;5;241m!=\u001B[39m \u001B[38;5;241m2\u001B[39m:\n\u001B[0;32m   1133\u001B[0m     \u001B[38;5;28;01mraise\u001B[39;00m nx\u001B[38;5;241m.\u001B[39mNetworkXError(\u001B[38;5;124mf\u001B[39m\u001B[38;5;124m\"\u001B[39m\u001B[38;5;124mInput array must be 2D, not \u001B[39m\u001B[38;5;132;01m{\u001B[39;00mA\u001B[38;5;241m.\u001B[39mndim\u001B[38;5;132;01m}\u001B[39;00m\u001B[38;5;124m\"\u001B[39m)\n\u001B[0;32m   1134\u001B[0m n, m \u001B[38;5;241m=\u001B[39m A\u001B[38;5;241m.\u001B[39mshape\n",
      "\u001B[1;31mAttributeError\u001B[0m: 'MutableDenseMatrix' object has no attribute 'ndim'"
     ]
    }
   ],
   "execution_count": 37
  },
  {
   "metadata": {},
   "cell_type": "code",
   "source": [
    "A = Matrix([\n",
    "    [0, 1, 1],\n",
    "    [1, 0, 1],\n",
    "    [1, 1, 0]\n",
    "])\n",
    "sparsified = sparsify(A, show=True)"
   ],
   "id": "ac6b8e51626fe3a4",
   "outputs": [],
   "execution_count": null
  },
  {
   "metadata": {},
   "cell_type": "code",
   "source": [
    "A = np.array([\n",
    "    [0, 1, 1],\n",
    "    [1, 0, 1],\n",
    "    [1, 1, 0]\n",
    "])\n",
    "sparsified = sparsify(A, log=True)"
   ],
   "id": "9cbc86d28efa08d1",
   "outputs": [],
   "execution_count": null
  },
  {
   "metadata": {},
   "cell_type": "code",
   "source": "",
   "id": "f0f7e1100e296f8b",
   "outputs": [],
   "execution_count": null
  }
 ],
 "metadata": {
  "kernelspec": {
   "display_name": "Python 3",
   "language": "python",
   "name": "python3"
  },
  "language_info": {
   "codemirror_mode": {
    "name": "ipython",
    "version": 2
   },
   "file_extension": ".py",
   "mimetype": "text/x-python",
   "name": "python",
   "nbconvert_exporter": "python",
   "pygments_lexer": "ipython2",
   "version": "2.7.6"
  }
 },
 "nbformat": 4,
 "nbformat_minor": 5
}
